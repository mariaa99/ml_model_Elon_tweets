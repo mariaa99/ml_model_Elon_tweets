{
 "cells": [
  {
   "cell_type": "markdown",
   "metadata": {},
   "source": [
    "# Работа с git и dvc"
   ]
  },
  {
   "cell_type": "code",
   "execution_count": 1,
   "metadata": {},
   "outputs": [
    {
     "name": "stdout",
     "output_type": "stream",
     "text": [
      "Initialized empty Git repository in C:/Users/badre/OneDrive/Р Р°Р±РѕС‡РёР№ СЃС‚РѕР»/ml_model_Elon_tweets/.git/\n",
      "[main (root-commit) 23cfef4] first commit\n",
      " 1 file changed, 1 insertion(+)\n",
      " create mode 100644 README.md\n",
      "branch 'main' set up to track 'origin/main'.\n"
     ]
    },
    {
     "name": "stderr",
     "output_type": "stream",
     "text": [
      "To https://github.com/mariaa99/ml_model_Elon_tweets.git\n",
      " * [new branch]      main -> main\n"
     ]
    }
   ],
   "source": [
    "! echo \"# ml_model_Elon_tweets: forecasting summary Elon's tweets likes for each day\" >> README.md\n",
    "! git init\n",
    "! git add README.md\n",
    "! git commit -m \"first commit\"\n",
    "! git branch -M main\n",
    "! git remote add origin https://github.com/mariaa99/ml_model_Elon_tweets.git\n",
    "! git push -u origin main"
   ]
  },
  {
   "cell_type": "code",
   "execution_count": 2,
   "metadata": {},
   "outputs": [
    {
     "name": "stderr",
     "output_type": "stream",
     "text": [
      "warning: in the working copy of 'model_Elon_Mask.ipynb', LF will be replaced by CRLF the next time Git touches it\n"
     ]
    },
    {
     "name": "stdout",
     "output_type": "stream",
     "text": [
      "[main 439c065] added notebook model_Elon_Mask.ipynb\n",
      " 1 file changed, 2227 insertions(+)\n",
      " create mode 100644 model_Elon_Mask.ipynb\n"
     ]
    }
   ],
   "source": [
    "! git add model_Elon_Mask.ipynb\n",
    "! git commit -m \"added notebook model_Elon_Mask.ipynb\""
   ]
  },
  {
   "cell_type": "code",
   "execution_count": 3,
   "metadata": {},
   "outputs": [
    {
     "name": "stdout",
     "output_type": "stream",
     "text": [
      "branch 'main' set up to track 'origin/main'.\n"
     ]
    },
    {
     "name": "stderr",
     "output_type": "stream",
     "text": [
      "To https://github.com/mariaa99/ml_model_Elon_tweets.git\n",
      "   23cfef4..439c065  main -> main\n"
     ]
    }
   ],
   "source": [
    "! git push -u origin main"
   ]
  },
  {
   "cell_type": "code",
   "execution_count": null,
   "metadata": {},
   "outputs": [],
   "source": [
    "! pip install dvc"
   ]
  },
  {
   "cell_type": "code",
   "execution_count": 16,
   "metadata": {},
   "outputs": [
    {
     "name": "stdout",
     "output_type": "stream",
     "text": [
      "Initialized DVC repository.\n",
      "\n",
      "You can now commit the changes to git.\n",
      "\n",
      "+---------------------------------------------------------------------+\n",
      "|                                                                     |\n",
      "|        DVC has enabled anonymous aggregate usage analytics.         |\n",
      "|     Read the analytics documentation (and how to opt-out) here:     |\n",
      "|             <https://dvc.org/doc/user-guide/analytics>              |\n",
      "|                                                                     |\n",
      "+---------------------------------------------------------------------+\n",
      "\n",
      "What's next?\n",
      "------------\n",
      "- Check out the documentation: <https://dvc.org/doc>\n",
      "- Get help and share ideas: <https://dvc.org/chat>\n",
      "- Star us on GitHub: <https://github.com/iterative/dvc>\n"
     ]
    }
   ],
   "source": [
    "! dvc init"
   ]
  },
  {
   "cell_type": "code",
   "execution_count": 1,
   "metadata": {},
   "outputs": [
    {
     "name": "stdout",
     "output_type": "stream",
     "text": [
      "\n",
      "To track the changes with git, run:\n",
      "\n",
      "\tgit add 'data\\ElonTweets.csv.dvc' 'data\\.gitignore'\n",
      "\n",
      "To enable auto staging, run:\n",
      "\n",
      "\tdvc config core.autostage true\n"
     ]
    }
   ],
   "source": [
    "! dvc add data/ElonTweets.csv"
   ]
  },
  {
   "cell_type": "code",
   "execution_count": 2,
   "metadata": {},
   "outputs": [
    {
     "name": "stdout",
     "output_type": "stream",
     "text": [
      "[main 63681f0] Add data\n",
      " 5 files changed, 11 insertions(+)\n",
      " create mode 100644 .dvc/.gitignore\n",
      " create mode 100644 .dvc/config\n",
      " create mode 100644 .dvcignore\n",
      " create mode 100644 data/.gitignore\n",
      " create mode 100644 data/ElonTweets.csv.dvc\n"
     ]
    }
   ],
   "source": [
    "!git add data/ElonTweets.csv.dvc data/.gitignore\n",
    "!git commit -m \"Add data\""
   ]
  },
  {
   "cell_type": "code",
   "execution_count": 5,
   "metadata": {},
   "outputs": [
    {
     "name": "stdout",
     "output_type": "stream",
     "text": [
      "[main 953e3db] Configure remote storage\n",
      " 1 file changed, 2 insertions(+)\n"
     ]
    }
   ],
   "source": [
    "! dvc remote add -f myremote  gdrive://1rNr65eRkNkjC56RXXkY1vVYkAn7NWHWj\n",
    "! dvc remote default myremote   \n",
    "! git add .dvc/config\n",
    "! git commit -m \"Configure remote storage\""
   ]
  },
  {
   "cell_type": "code",
   "execution_count": 6,
   "metadata": {},
   "outputs": [
    {
     "name": "stdout",
     "output_type": "stream",
     "text": [
      "Everything is up to date.\n"
     ]
    }
   ],
   "source": [
    "! dvc push"
   ]
  },
  {
   "cell_type": "code",
   "execution_count": 7,
   "metadata": {},
   "outputs": [
    {
     "name": "stdout",
     "output_type": "stream",
     "text": [
      "Everything is up to date.\n"
     ]
    }
   ],
   "source": [
    "! dvc pull -f"
   ]
  },
  {
   "cell_type": "markdown",
   "metadata": {},
   "source": [
    "# Загружаем необходимые библиотеки"
   ]
  },
  {
   "cell_type": "code",
   "execution_count": 8,
   "metadata": {},
   "outputs": [
    {
     "name": "stderr",
     "output_type": "stream",
     "text": [
      "C:\\Users\\badre\\AppData\\Roaming\\Python\\Python38\\site-packages\\pandas\\core\\computation\\expressions.py:20: UserWarning: Pandas requires version '2.7.3' or newer of 'numexpr' (version '2.7.1' currently installed).\n",
      "  from pandas.core.computation.check import NUMEXPR_INSTALLED\n"
     ]
    }
   ],
   "source": [
    "import pandas as pd\n",
    "import numpy as np\n",
    "from dateutil.relativedelta import relativedelta\n",
    "\n",
    "import sktime\n",
    "from sktime.utils.plotting import plot_series\n",
    "from sktime.forecasting.base import ForecastingHorizon\n",
    "from sktime.forecasting.ets import AutoETS\n",
    "from sklearn.ensemble import GradientBoostingRegressor\n",
    "from sktime.performance_metrics.forecasting import mean_absolute_percentage_error\n",
    "\n",
    "import warnings\n",
    "warnings.filterwarnings('ignore')"
   ]
  },
  {
   "cell_type": "markdown",
   "metadata": {},
   "source": [
    "# Считываем и преобразуем данные"
   ]
  },
  {
   "cell_type": "code",
   "execution_count": 9,
   "metadata": {},
   "outputs": [
    {
     "name": "stdout",
     "output_type": "stream",
     "text": [
      "Everything is up to date.\n"
     ]
    }
   ],
   "source": [
    "! dvc pull -f"
   ]
  },
  {
   "cell_type": "code",
   "execution_count": 10,
   "metadata": {},
   "outputs": [
    {
     "data": {
      "text/html": [
       "<div>\n",
       "<style scoped>\n",
       "    .dataframe tbody tr th:only-of-type {\n",
       "        vertical-align: middle;\n",
       "    }\n",
       "\n",
       "    .dataframe tbody tr th {\n",
       "        vertical-align: top;\n",
       "    }\n",
       "\n",
       "    .dataframe thead th {\n",
       "        text-align: right;\n",
       "    }\n",
       "</style>\n",
       "<table border=\"1\" class=\"dataframe\">\n",
       "  <thead>\n",
       "    <tr style=\"text-align: right;\">\n",
       "      <th></th>\n",
       "      <th>Date</th>\n",
       "      <th>Datetime</th>\n",
       "      <th>Text</th>\n",
       "      <th>location</th>\n",
       "      <th>reply count</th>\n",
       "      <th>retweet count</th>\n",
       "      <th>like count</th>\n",
       "      <th>Follower Count</th>\n",
       "      <th>sentiment</th>\n",
       "    </tr>\n",
       "  </thead>\n",
       "  <tbody>\n",
       "    <tr>\n",
       "      <th>0</th>\n",
       "      <td>2022-10-28</td>\n",
       "      <td>2022-10-28 03:49:11+00:00</td>\n",
       "      <td>the bird is freed</td>\n",
       "      <td>Twitter HQ</td>\n",
       "      <td>57663</td>\n",
       "      <td>128631</td>\n",
       "      <td>730472</td>\n",
       "      <td>110553384</td>\n",
       "      <td>['positive', 0.70848316]</td>\n",
       "    </tr>\n",
       "    <tr>\n",
       "      <th>1</th>\n",
       "      <td>2022-10-28</td>\n",
       "      <td>2022-10-28 01:50:49+00:00</td>\n",
       "      <td>Falcon rockets to orbit as seen from LA https:...</td>\n",
       "      <td>Twitter HQ</td>\n",
       "      <td>6857</td>\n",
       "      <td>16499</td>\n",
       "      <td>189436</td>\n",
       "      <td>110553384</td>\n",
       "      <td>['neutral', 0.90077394]</td>\n",
       "    </tr>\n",
       "    <tr>\n",
       "      <th>2</th>\n",
       "      <td>2022-10-27</td>\n",
       "      <td>2022-10-27 21:45:47+00:00</td>\n",
       "      <td>@Gfilche @Twitter 🤣</td>\n",
       "      <td>Twitter HQ</td>\n",
       "      <td>632</td>\n",
       "      <td>246</td>\n",
       "      <td>7052</td>\n",
       "      <td>110553384</td>\n",
       "      <td>['neutral', 0.5714027]</td>\n",
       "    </tr>\n",
       "    <tr>\n",
       "      <th>3</th>\n",
       "      <td>2022-10-27</td>\n",
       "      <td>2022-10-27 16:17:39+00:00</td>\n",
       "      <td>@PeterSchiff 🤣 thanks</td>\n",
       "      <td>Twitter HQ</td>\n",
       "      <td>670</td>\n",
       "      <td>420</td>\n",
       "      <td>17577</td>\n",
       "      <td>110553384</td>\n",
       "      <td>['positive', 0.78971434]</td>\n",
       "    </tr>\n",
       "    <tr>\n",
       "      <th>4</th>\n",
       "      <td>2022-10-27</td>\n",
       "      <td>2022-10-27 13:19:25+00:00</td>\n",
       "      <td>@ZubyMusic Absolutely</td>\n",
       "      <td>Twitter HQ</td>\n",
       "      <td>1281</td>\n",
       "      <td>1152</td>\n",
       "      <td>42896</td>\n",
       "      <td>110553384</td>\n",
       "      <td>['neutral', 0.5287457]</td>\n",
       "    </tr>\n",
       "    <tr>\n",
       "      <th>...</th>\n",
       "      <td>...</td>\n",
       "      <td>...</td>\n",
       "      <td>...</td>\n",
       "      <td>...</td>\n",
       "      <td>...</td>\n",
       "      <td>...</td>\n",
       "      <td>...</td>\n",
       "      <td>...</td>\n",
       "      <td>...</td>\n",
       "    </tr>\n",
       "    <tr>\n",
       "      <th>17440</th>\n",
       "      <td>2011-12-03</td>\n",
       "      <td>2011-12-03 08:22:07+00:00</td>\n",
       "      <td>That was a total non sequitur btw</td>\n",
       "      <td>Twitter HQ</td>\n",
       "      <td>27</td>\n",
       "      <td>9</td>\n",
       "      <td>51</td>\n",
       "      <td>110555351</td>\n",
       "      <td>['negative', 0.5067324]</td>\n",
       "    </tr>\n",
       "    <tr>\n",
       "      <th>17441</th>\n",
       "      <td>2011-12-03</td>\n",
       "      <td>2011-12-03 08:20:28+00:00</td>\n",
       "      <td>Great Voltaire quote, arguably better than Twa...</td>\n",
       "      <td>Twitter HQ</td>\n",
       "      <td>23</td>\n",
       "      <td>29</td>\n",
       "      <td>53</td>\n",
       "      <td>110555351</td>\n",
       "      <td>['positive', 0.55860823]</td>\n",
       "    </tr>\n",
       "    <tr>\n",
       "      <th>17442</th>\n",
       "      <td>2011-12-01</td>\n",
       "      <td>2011-12-01 10:29:04+00:00</td>\n",
       "      <td>I made the volume on the Model S http://t.co/w...</td>\n",
       "      <td>Twitter HQ</td>\n",
       "      <td>29</td>\n",
       "      <td>13</td>\n",
       "      <td>75</td>\n",
       "      <td>110555351</td>\n",
       "      <td>['neutral', 0.6384011]</td>\n",
       "    </tr>\n",
       "    <tr>\n",
       "      <th>17443</th>\n",
       "      <td>2011-12-01</td>\n",
       "      <td>2011-12-01 09:55:11+00:00</td>\n",
       "      <td>Went to Iceland on Sat to ride bumper cars on ...</td>\n",
       "      <td>Twitter HQ</td>\n",
       "      <td>33</td>\n",
       "      <td>22</td>\n",
       "      <td>188</td>\n",
       "      <td>110555351</td>\n",
       "      <td>['positive', 0.9733198]</td>\n",
       "    </tr>\n",
       "    <tr>\n",
       "      <th>17444</th>\n",
       "      <td>2010-06-04</td>\n",
       "      <td>2010-06-04 18:31:57+00:00</td>\n",
       "      <td>Please ignore prior tweets, as that was someon...</td>\n",
       "      <td>Twitter HQ</td>\n",
       "      <td>988</td>\n",
       "      <td>558</td>\n",
       "      <td>6023</td>\n",
       "      <td>110555351</td>\n",
       "      <td>['neutral', 0.5472165]</td>\n",
       "    </tr>\n",
       "  </tbody>\n",
       "</table>\n",
       "<p>17445 rows × 9 columns</p>\n",
       "</div>"
      ],
      "text/plain": [
       "            Date                  Datetime  \\\n",
       "0     2022-10-28 2022-10-28 03:49:11+00:00   \n",
       "1     2022-10-28 2022-10-28 01:50:49+00:00   \n",
       "2     2022-10-27 2022-10-27 21:45:47+00:00   \n",
       "3     2022-10-27 2022-10-27 16:17:39+00:00   \n",
       "4     2022-10-27 2022-10-27 13:19:25+00:00   \n",
       "...          ...                       ...   \n",
       "17440 2011-12-03 2011-12-03 08:22:07+00:00   \n",
       "17441 2011-12-03 2011-12-03 08:20:28+00:00   \n",
       "17442 2011-12-01 2011-12-01 10:29:04+00:00   \n",
       "17443 2011-12-01 2011-12-01 09:55:11+00:00   \n",
       "17444 2010-06-04 2010-06-04 18:31:57+00:00   \n",
       "\n",
       "                                                    Text    location  \\\n",
       "0                                      the bird is freed  Twitter HQ   \n",
       "1      Falcon rockets to orbit as seen from LA https:...  Twitter HQ   \n",
       "2                                    @Gfilche @Twitter 🤣  Twitter HQ   \n",
       "3                                  @PeterSchiff 🤣 thanks  Twitter HQ   \n",
       "4                                  @ZubyMusic Absolutely  Twitter HQ   \n",
       "...                                                  ...         ...   \n",
       "17440                  That was a total non sequitur btw  Twitter HQ   \n",
       "17441  Great Voltaire quote, arguably better than Twa...  Twitter HQ   \n",
       "17442  I made the volume on the Model S http://t.co/w...  Twitter HQ   \n",
       "17443  Went to Iceland on Sat to ride bumper cars on ...  Twitter HQ   \n",
       "17444  Please ignore prior tweets, as that was someon...  Twitter HQ   \n",
       "\n",
       "       reply count  retweet count  like count  Follower Count  \\\n",
       "0            57663         128631      730472       110553384   \n",
       "1             6857          16499      189436       110553384   \n",
       "2              632            246        7052       110553384   \n",
       "3              670            420       17577       110553384   \n",
       "4             1281           1152       42896       110553384   \n",
       "...            ...            ...         ...             ...   \n",
       "17440           27              9          51       110555351   \n",
       "17441           23             29          53       110555351   \n",
       "17442           29             13          75       110555351   \n",
       "17443           33             22         188       110555351   \n",
       "17444          988            558        6023       110555351   \n",
       "\n",
       "                      sentiment  \n",
       "0      ['positive', 0.70848316]  \n",
       "1       ['neutral', 0.90077394]  \n",
       "2        ['neutral', 0.5714027]  \n",
       "3      ['positive', 0.78971434]  \n",
       "4        ['neutral', 0.5287457]  \n",
       "...                         ...  \n",
       "17440   ['negative', 0.5067324]  \n",
       "17441  ['positive', 0.55860823]  \n",
       "17442    ['neutral', 0.6384011]  \n",
       "17443   ['positive', 0.9733198]  \n",
       "17444    ['neutral', 0.5472165]  \n",
       "\n",
       "[17445 rows x 9 columns]"
      ]
     },
     "execution_count": 10,
     "metadata": {},
     "output_type": "execute_result"
    }
   ],
   "source": [
    "df = pd.read_csv(\"data/ElonTweets.csv\", sep = ',')\n",
    "df['Datetime'] = pd.to_datetime(df['Datetime'], format=\"%Y.%m.%d %H:%M:%S\")\n",
    "df['Date'] = pd.to_datetime(df['Date'], format=\"%Y.%m.%d\")\n",
    "df = df[['Date','Datetime', 'Text', 'location', 'reply count', 'retweet count', 'like count', 'Follower Count',  'sentiment' ]]\n",
    "df"
   ]
  },
  {
   "cell_type": "markdown",
   "metadata": {},
   "source": [
    "### Посмотрим минимальную и максимальную дату"
   ]
  },
  {
   "cell_type": "code",
   "execution_count": 11,
   "metadata": {},
   "outputs": [
    {
     "data": {
      "text/plain": [
       "(Timestamp('2010-06-04 00:00:00'), Timestamp('2022-10-28 00:00:00'))"
      ]
     },
     "execution_count": 11,
     "metadata": {},
     "output_type": "execute_result"
    }
   ],
   "source": [
    "(df['Date'].min(), df['Date'].max())"
   ]
  },
  {
   "cell_type": "markdown",
   "metadata": {},
   "source": [
    "### Преобразование данных из поля sentiment в 2 отдельных поля"
   ]
  },
  {
   "cell_type": "code",
   "execution_count": 12,
   "metadata": {},
   "outputs": [
    {
     "data": {
      "text/html": [
       "<div>\n",
       "<style scoped>\n",
       "    .dataframe tbody tr th:only-of-type {\n",
       "        vertical-align: middle;\n",
       "    }\n",
       "\n",
       "    .dataframe tbody tr th {\n",
       "        vertical-align: top;\n",
       "    }\n",
       "\n",
       "    .dataframe thead th {\n",
       "        text-align: right;\n",
       "    }\n",
       "</style>\n",
       "<table border=\"1\" class=\"dataframe\">\n",
       "  <thead>\n",
       "    <tr style=\"text-align: right;\">\n",
       "      <th></th>\n",
       "      <th>Date</th>\n",
       "      <th>Datetime</th>\n",
       "      <th>Text</th>\n",
       "      <th>location</th>\n",
       "      <th>reply count</th>\n",
       "      <th>retweet count</th>\n",
       "      <th>like count</th>\n",
       "      <th>Follower Count</th>\n",
       "      <th>sentiment</th>\n",
       "      <th>sentiment_type</th>\n",
       "      <th>sentiment_rate</th>\n",
       "    </tr>\n",
       "  </thead>\n",
       "  <tbody>\n",
       "    <tr>\n",
       "      <th>0</th>\n",
       "      <td>2022-10-28</td>\n",
       "      <td>2022-10-28 03:49:11+00:00</td>\n",
       "      <td>the bird is freed</td>\n",
       "      <td>Twitter HQ</td>\n",
       "      <td>57663</td>\n",
       "      <td>128631</td>\n",
       "      <td>730472</td>\n",
       "      <td>110553384</td>\n",
       "      <td>['positive', 0.70848316]</td>\n",
       "      <td>positive</td>\n",
       "      <td>0.708483</td>\n",
       "    </tr>\n",
       "    <tr>\n",
       "      <th>1</th>\n",
       "      <td>2022-10-28</td>\n",
       "      <td>2022-10-28 01:50:49+00:00</td>\n",
       "      <td>Falcon rockets to orbit as seen from LA https:...</td>\n",
       "      <td>Twitter HQ</td>\n",
       "      <td>6857</td>\n",
       "      <td>16499</td>\n",
       "      <td>189436</td>\n",
       "      <td>110553384</td>\n",
       "      <td>['neutral', 0.90077394]</td>\n",
       "      <td>neutral</td>\n",
       "      <td>0.900774</td>\n",
       "    </tr>\n",
       "    <tr>\n",
       "      <th>2</th>\n",
       "      <td>2022-10-27</td>\n",
       "      <td>2022-10-27 21:45:47+00:00</td>\n",
       "      <td>@Gfilche @Twitter 🤣</td>\n",
       "      <td>Twitter HQ</td>\n",
       "      <td>632</td>\n",
       "      <td>246</td>\n",
       "      <td>7052</td>\n",
       "      <td>110553384</td>\n",
       "      <td>['neutral', 0.5714027]</td>\n",
       "      <td>neutral</td>\n",
       "      <td>0.571403</td>\n",
       "    </tr>\n",
       "    <tr>\n",
       "      <th>3</th>\n",
       "      <td>2022-10-27</td>\n",
       "      <td>2022-10-27 16:17:39+00:00</td>\n",
       "      <td>@PeterSchiff 🤣 thanks</td>\n",
       "      <td>Twitter HQ</td>\n",
       "      <td>670</td>\n",
       "      <td>420</td>\n",
       "      <td>17577</td>\n",
       "      <td>110553384</td>\n",
       "      <td>['positive', 0.78971434]</td>\n",
       "      <td>positive</td>\n",
       "      <td>0.789714</td>\n",
       "    </tr>\n",
       "    <tr>\n",
       "      <th>4</th>\n",
       "      <td>2022-10-27</td>\n",
       "      <td>2022-10-27 13:19:25+00:00</td>\n",
       "      <td>@ZubyMusic Absolutely</td>\n",
       "      <td>Twitter HQ</td>\n",
       "      <td>1281</td>\n",
       "      <td>1152</td>\n",
       "      <td>42896</td>\n",
       "      <td>110553384</td>\n",
       "      <td>['neutral', 0.5287457]</td>\n",
       "      <td>neutral</td>\n",
       "      <td>0.528746</td>\n",
       "    </tr>\n",
       "    <tr>\n",
       "      <th>...</th>\n",
       "      <td>...</td>\n",
       "      <td>...</td>\n",
       "      <td>...</td>\n",
       "      <td>...</td>\n",
       "      <td>...</td>\n",
       "      <td>...</td>\n",
       "      <td>...</td>\n",
       "      <td>...</td>\n",
       "      <td>...</td>\n",
       "      <td>...</td>\n",
       "      <td>...</td>\n",
       "    </tr>\n",
       "    <tr>\n",
       "      <th>17440</th>\n",
       "      <td>2011-12-03</td>\n",
       "      <td>2011-12-03 08:22:07+00:00</td>\n",
       "      <td>That was a total non sequitur btw</td>\n",
       "      <td>Twitter HQ</td>\n",
       "      <td>27</td>\n",
       "      <td>9</td>\n",
       "      <td>51</td>\n",
       "      <td>110555351</td>\n",
       "      <td>['negative', 0.5067324]</td>\n",
       "      <td>negative</td>\n",
       "      <td>0.506732</td>\n",
       "    </tr>\n",
       "    <tr>\n",
       "      <th>17441</th>\n",
       "      <td>2011-12-03</td>\n",
       "      <td>2011-12-03 08:20:28+00:00</td>\n",
       "      <td>Great Voltaire quote, arguably better than Twa...</td>\n",
       "      <td>Twitter HQ</td>\n",
       "      <td>23</td>\n",
       "      <td>29</td>\n",
       "      <td>53</td>\n",
       "      <td>110555351</td>\n",
       "      <td>['positive', 0.55860823]</td>\n",
       "      <td>positive</td>\n",
       "      <td>0.558608</td>\n",
       "    </tr>\n",
       "    <tr>\n",
       "      <th>17442</th>\n",
       "      <td>2011-12-01</td>\n",
       "      <td>2011-12-01 10:29:04+00:00</td>\n",
       "      <td>I made the volume on the Model S http://t.co/w...</td>\n",
       "      <td>Twitter HQ</td>\n",
       "      <td>29</td>\n",
       "      <td>13</td>\n",
       "      <td>75</td>\n",
       "      <td>110555351</td>\n",
       "      <td>['neutral', 0.6384011]</td>\n",
       "      <td>neutral</td>\n",
       "      <td>0.638401</td>\n",
       "    </tr>\n",
       "    <tr>\n",
       "      <th>17443</th>\n",
       "      <td>2011-12-01</td>\n",
       "      <td>2011-12-01 09:55:11+00:00</td>\n",
       "      <td>Went to Iceland on Sat to ride bumper cars on ...</td>\n",
       "      <td>Twitter HQ</td>\n",
       "      <td>33</td>\n",
       "      <td>22</td>\n",
       "      <td>188</td>\n",
       "      <td>110555351</td>\n",
       "      <td>['positive', 0.9733198]</td>\n",
       "      <td>positive</td>\n",
       "      <td>0.973320</td>\n",
       "    </tr>\n",
       "    <tr>\n",
       "      <th>17444</th>\n",
       "      <td>2010-06-04</td>\n",
       "      <td>2010-06-04 18:31:57+00:00</td>\n",
       "      <td>Please ignore prior tweets, as that was someon...</td>\n",
       "      <td>Twitter HQ</td>\n",
       "      <td>988</td>\n",
       "      <td>558</td>\n",
       "      <td>6023</td>\n",
       "      <td>110555351</td>\n",
       "      <td>['neutral', 0.5472165]</td>\n",
       "      <td>neutral</td>\n",
       "      <td>0.547216</td>\n",
       "    </tr>\n",
       "  </tbody>\n",
       "</table>\n",
       "<p>17445 rows × 11 columns</p>\n",
       "</div>"
      ],
      "text/plain": [
       "            Date                  Datetime  \\\n",
       "0     2022-10-28 2022-10-28 03:49:11+00:00   \n",
       "1     2022-10-28 2022-10-28 01:50:49+00:00   \n",
       "2     2022-10-27 2022-10-27 21:45:47+00:00   \n",
       "3     2022-10-27 2022-10-27 16:17:39+00:00   \n",
       "4     2022-10-27 2022-10-27 13:19:25+00:00   \n",
       "...          ...                       ...   \n",
       "17440 2011-12-03 2011-12-03 08:22:07+00:00   \n",
       "17441 2011-12-03 2011-12-03 08:20:28+00:00   \n",
       "17442 2011-12-01 2011-12-01 10:29:04+00:00   \n",
       "17443 2011-12-01 2011-12-01 09:55:11+00:00   \n",
       "17444 2010-06-04 2010-06-04 18:31:57+00:00   \n",
       "\n",
       "                                                    Text    location  \\\n",
       "0                                      the bird is freed  Twitter HQ   \n",
       "1      Falcon rockets to orbit as seen from LA https:...  Twitter HQ   \n",
       "2                                    @Gfilche @Twitter 🤣  Twitter HQ   \n",
       "3                                  @PeterSchiff 🤣 thanks  Twitter HQ   \n",
       "4                                  @ZubyMusic Absolutely  Twitter HQ   \n",
       "...                                                  ...         ...   \n",
       "17440                  That was a total non sequitur btw  Twitter HQ   \n",
       "17441  Great Voltaire quote, arguably better than Twa...  Twitter HQ   \n",
       "17442  I made the volume on the Model S http://t.co/w...  Twitter HQ   \n",
       "17443  Went to Iceland on Sat to ride bumper cars on ...  Twitter HQ   \n",
       "17444  Please ignore prior tweets, as that was someon...  Twitter HQ   \n",
       "\n",
       "       reply count  retweet count  like count  Follower Count  \\\n",
       "0            57663         128631      730472       110553384   \n",
       "1             6857          16499      189436       110553384   \n",
       "2              632            246        7052       110553384   \n",
       "3              670            420       17577       110553384   \n",
       "4             1281           1152       42896       110553384   \n",
       "...            ...            ...         ...             ...   \n",
       "17440           27              9          51       110555351   \n",
       "17441           23             29          53       110555351   \n",
       "17442           29             13          75       110555351   \n",
       "17443           33             22         188       110555351   \n",
       "17444          988            558        6023       110555351   \n",
       "\n",
       "                      sentiment sentiment_type  sentiment_rate  \n",
       "0      ['positive', 0.70848316]       positive        0.708483  \n",
       "1       ['neutral', 0.90077394]        neutral        0.900774  \n",
       "2        ['neutral', 0.5714027]        neutral        0.571403  \n",
       "3      ['positive', 0.78971434]       positive        0.789714  \n",
       "4        ['neutral', 0.5287457]        neutral        0.528746  \n",
       "...                         ...            ...             ...  \n",
       "17440   ['negative', 0.5067324]       negative        0.506732  \n",
       "17441  ['positive', 0.55860823]       positive        0.558608  \n",
       "17442    ['neutral', 0.6384011]        neutral        0.638401  \n",
       "17443   ['positive', 0.9733198]       positive        0.973320  \n",
       "17444    ['neutral', 0.5472165]        neutral        0.547216  \n",
       "\n",
       "[17445 rows x 11 columns]"
      ]
     },
     "execution_count": 12,
     "metadata": {},
     "output_type": "execute_result"
    }
   ],
   "source": [
    "df['sentiment_type'] = np.nan \n",
    "df['sentiment_rate'] = np.nan \n",
    "for i in df.index:\n",
    "    df['sentiment_type'][i] = str(df['sentiment'][i][1:-1].split(', ')[0][1:-1])\n",
    "    df['sentiment_rate'][i] = float(df['sentiment'][i][1:-1].split(', ')[1])\n",
    "df"
   ]
  },
  {
   "cell_type": "markdown",
   "metadata": {},
   "source": [
    "### Агрегируем данные по дате и найдем суммарное количество лайков в каждую дату"
   ]
  },
  {
   "cell_type": "code",
   "execution_count": 13,
   "metadata": {},
   "outputs": [
    {
     "data": {
      "text/html": [
       "<div>\n",
       "<style scoped>\n",
       "    .dataframe tbody tr th:only-of-type {\n",
       "        vertical-align: middle;\n",
       "    }\n",
       "\n",
       "    .dataframe tbody tr th {\n",
       "        vertical-align: top;\n",
       "    }\n",
       "\n",
       "    .dataframe thead th {\n",
       "        text-align: right;\n",
       "    }\n",
       "</style>\n",
       "<table border=\"1\" class=\"dataframe\">\n",
       "  <thead>\n",
       "    <tr style=\"text-align: right;\">\n",
       "      <th></th>\n",
       "      <th>like count</th>\n",
       "    </tr>\n",
       "    <tr>\n",
       "      <th>Date</th>\n",
       "      <th></th>\n",
       "    </tr>\n",
       "  </thead>\n",
       "  <tbody>\n",
       "    <tr>\n",
       "      <th>2010-06-04</th>\n",
       "      <td>6023</td>\n",
       "    </tr>\n",
       "    <tr>\n",
       "      <th>2011-12-01</th>\n",
       "      <td>263</td>\n",
       "    </tr>\n",
       "    <tr>\n",
       "      <th>2011-12-03</th>\n",
       "      <td>104</td>\n",
       "    </tr>\n",
       "    <tr>\n",
       "      <th>2011-12-04</th>\n",
       "      <td>163</td>\n",
       "    </tr>\n",
       "    <tr>\n",
       "      <th>2011-12-21</th>\n",
       "      <td>2480</td>\n",
       "    </tr>\n",
       "    <tr>\n",
       "      <th>...</th>\n",
       "      <td>...</td>\n",
       "    </tr>\n",
       "    <tr>\n",
       "      <th>2022-10-24</th>\n",
       "      <td>180048</td>\n",
       "    </tr>\n",
       "    <tr>\n",
       "      <th>2022-10-25</th>\n",
       "      <td>409389</td>\n",
       "    </tr>\n",
       "    <tr>\n",
       "      <th>2022-10-26</th>\n",
       "      <td>1976784</td>\n",
       "    </tr>\n",
       "    <tr>\n",
       "      <th>2022-10-27</th>\n",
       "      <td>678340</td>\n",
       "    </tr>\n",
       "    <tr>\n",
       "      <th>2022-10-28</th>\n",
       "      <td>919908</td>\n",
       "    </tr>\n",
       "  </tbody>\n",
       "</table>\n",
       "<p>2541 rows × 1 columns</p>\n",
       "</div>"
      ],
      "text/plain": [
       "            like count\n",
       "Date                  \n",
       "2010-06-04        6023\n",
       "2011-12-01         263\n",
       "2011-12-03         104\n",
       "2011-12-04         163\n",
       "2011-12-21        2480\n",
       "...                ...\n",
       "2022-10-24      180048\n",
       "2022-10-25      409389\n",
       "2022-10-26     1976784\n",
       "2022-10-27      678340\n",
       "2022-10-28      919908\n",
       "\n",
       "[2541 rows x 1 columns]"
      ]
     },
     "execution_count": 13,
     "metadata": {},
     "output_type": "execute_result"
    }
   ],
   "source": [
    "df_agg = df.groupby('Date').agg({'like count': 'sum'})\n",
    "df_agg"
   ]
  },
  {
   "cell_type": "markdown",
   "metadata": {},
   "source": [
    "### Построим графики для визуального определения паттернов временного ряда"
   ]
  },
  {
   "cell_type": "code",
   "execution_count": 14,
   "metadata": {},
   "outputs": [
    {
     "data": {
      "image/png": "[encoded data removed]",
      "text/plain": [
       "<Figure size 1152x288 with 1 Axes>"
      ]
     },
     "metadata": {
      "needs_background": "light"
     },
     "output_type": "display_data"
    }
   ],
   "source": [
    "fig, ax = plot_series(df_agg, markers = '.')"
   ]
  },
  {
   "cell_type": "code",
   "execution_count": 15,
   "metadata": {},
   "outputs": [
    {
     "data": {
      "image/png": "[encoded data removed]",
      "text/plain": [
       "<Figure size 1152x288 with 1 Axes>"
      ]
     },
     "metadata": {
      "needs_background": "light"
     },
     "output_type": "display_data"
    }
   ],
   "source": [
    "fig, ax = plot_series(df_agg['2021-10-28':].resample('W').sum(), markers = '.')"
   ]
  },
  {
   "cell_type": "code",
   "execution_count": 16,
   "metadata": {},
   "outputs": [
    {
     "data": {
      "image/png": "[encoded data removed]",
      "text/plain": [
       "<Figure size 1152x288 with 1 Axes>"
      ]
     },
     "metadata": {
      "needs_background": "light"
     },
     "output_type": "display_data"
    }
   ],
   "source": [
    "fig, ax = plot_series(df_agg.resample('M').sum(), markers = '.')"
   ]
  },
  {
   "cell_type": "markdown",
   "metadata": {},
   "source": [
    "**Видим, что ряд имеет восходящий характер и некоторую сезонность**"
   ]
  },
  {
   "cell_type": "markdown",
   "metadata": {},
   "source": [
    "### Выберем для рассмотрения и дальнейшего прогнозирования временной промежуток: 2 последних года"
   ]
  },
  {
   "cell_type": "code",
   "execution_count": 17,
   "metadata": {},
   "outputs": [
    {
     "data": {
      "text/html": [
       "<div>\n",
       "<style scoped>\n",
       "    .dataframe tbody tr th:only-of-type {\n",
       "        vertical-align: middle;\n",
       "    }\n",
       "\n",
       "    .dataframe tbody tr th {\n",
       "        vertical-align: top;\n",
       "    }\n",
       "\n",
       "    .dataframe thead th {\n",
       "        text-align: right;\n",
       "    }\n",
       "</style>\n",
       "<table border=\"1\" class=\"dataframe\">\n",
       "  <thead>\n",
       "    <tr style=\"text-align: right;\">\n",
       "      <th></th>\n",
       "      <th>Date</th>\n",
       "      <th>like count</th>\n",
       "    </tr>\n",
       "  </thead>\n",
       "  <tbody>\n",
       "    <tr>\n",
       "      <th>0</th>\n",
       "      <td>2018-10-31</td>\n",
       "      <td>6419230</td>\n",
       "    </tr>\n",
       "    <tr>\n",
       "      <th>1</th>\n",
       "      <td>2018-11-30</td>\n",
       "      <td>3344606</td>\n",
       "    </tr>\n",
       "    <tr>\n",
       "      <th>2</th>\n",
       "      <td>2018-12-31</td>\n",
       "      <td>3197145</td>\n",
       "    </tr>\n",
       "    <tr>\n",
       "      <th>3</th>\n",
       "      <td>2019-01-31</td>\n",
       "      <td>5400388</td>\n",
       "    </tr>\n",
       "    <tr>\n",
       "      <th>4</th>\n",
       "      <td>2019-02-28</td>\n",
       "      <td>5670607</td>\n",
       "    </tr>\n",
       "    <tr>\n",
       "      <th>5</th>\n",
       "      <td>2019-03-31</td>\n",
       "      <td>4293393</td>\n",
       "    </tr>\n",
       "    <tr>\n",
       "      <th>6</th>\n",
       "      <td>2019-04-30</td>\n",
       "      <td>5952838</td>\n",
       "    </tr>\n",
       "    <tr>\n",
       "      <th>7</th>\n",
       "      <td>2019-05-31</td>\n",
       "      <td>4543787</td>\n",
       "    </tr>\n",
       "    <tr>\n",
       "      <th>8</th>\n",
       "      <td>2019-06-30</td>\n",
       "      <td>3138439</td>\n",
       "    </tr>\n",
       "    <tr>\n",
       "      <th>9</th>\n",
       "      <td>2019-07-31</td>\n",
       "      <td>4496910</td>\n",
       "    </tr>\n",
       "    <tr>\n",
       "      <th>10</th>\n",
       "      <td>2019-08-31</td>\n",
       "      <td>4168109</td>\n",
       "    </tr>\n",
       "    <tr>\n",
       "      <th>11</th>\n",
       "      <td>2019-09-30</td>\n",
       "      <td>3547388</td>\n",
       "    </tr>\n",
       "    <tr>\n",
       "      <th>12</th>\n",
       "      <td>2019-10-31</td>\n",
       "      <td>5279742</td>\n",
       "    </tr>\n",
       "    <tr>\n",
       "      <th>13</th>\n",
       "      <td>2019-11-30</td>\n",
       "      <td>4714134</td>\n",
       "    </tr>\n",
       "    <tr>\n",
       "      <th>14</th>\n",
       "      <td>2019-12-31</td>\n",
       "      <td>6971328</td>\n",
       "    </tr>\n",
       "    <tr>\n",
       "      <th>15</th>\n",
       "      <td>2020-01-31</td>\n",
       "      <td>5924903</td>\n",
       "    </tr>\n",
       "    <tr>\n",
       "      <th>16</th>\n",
       "      <td>2020-02-29</td>\n",
       "      <td>4145065</td>\n",
       "    </tr>\n",
       "    <tr>\n",
       "      <th>17</th>\n",
       "      <td>2020-03-31</td>\n",
       "      <td>6505668</td>\n",
       "    </tr>\n",
       "    <tr>\n",
       "      <th>18</th>\n",
       "      <td>2020-04-30</td>\n",
       "      <td>5580646</td>\n",
       "    </tr>\n",
       "    <tr>\n",
       "      <th>19</th>\n",
       "      <td>2020-05-31</td>\n",
       "      <td>11842515</td>\n",
       "    </tr>\n",
       "    <tr>\n",
       "      <th>20</th>\n",
       "      <td>2020-06-30</td>\n",
       "      <td>8284395</td>\n",
       "    </tr>\n",
       "    <tr>\n",
       "      <th>21</th>\n",
       "      <td>2020-07-31</td>\n",
       "      <td>11574380</td>\n",
       "    </tr>\n",
       "    <tr>\n",
       "      <th>22</th>\n",
       "      <td>2020-08-31</td>\n",
       "      <td>6267419</td>\n",
       "    </tr>\n",
       "    <tr>\n",
       "      <th>23</th>\n",
       "      <td>2020-09-30</td>\n",
       "      <td>4816727</td>\n",
       "    </tr>\n",
       "    <tr>\n",
       "      <th>24</th>\n",
       "      <td>2020-10-31</td>\n",
       "      <td>4244218</td>\n",
       "    </tr>\n",
       "    <tr>\n",
       "      <th>25</th>\n",
       "      <td>2020-11-30</td>\n",
       "      <td>5520222</td>\n",
       "    </tr>\n",
       "    <tr>\n",
       "      <th>26</th>\n",
       "      <td>2020-12-31</td>\n",
       "      <td>8088292</td>\n",
       "    </tr>\n",
       "    <tr>\n",
       "      <th>27</th>\n",
       "      <td>2021-01-31</td>\n",
       "      <td>15778700</td>\n",
       "    </tr>\n",
       "    <tr>\n",
       "      <th>28</th>\n",
       "      <td>2021-02-28</td>\n",
       "      <td>19801224</td>\n",
       "    </tr>\n",
       "    <tr>\n",
       "      <th>29</th>\n",
       "      <td>2021-03-31</td>\n",
       "      <td>14651146</td>\n",
       "    </tr>\n",
       "    <tr>\n",
       "      <th>30</th>\n",
       "      <td>2021-04-30</td>\n",
       "      <td>12982129</td>\n",
       "    </tr>\n",
       "    <tr>\n",
       "      <th>31</th>\n",
       "      <td>2021-05-31</td>\n",
       "      <td>13832074</td>\n",
       "    </tr>\n",
       "    <tr>\n",
       "      <th>32</th>\n",
       "      <td>2021-06-30</td>\n",
       "      <td>9020135</td>\n",
       "    </tr>\n",
       "    <tr>\n",
       "      <th>33</th>\n",
       "      <td>2021-07-31</td>\n",
       "      <td>12153040</td>\n",
       "    </tr>\n",
       "    <tr>\n",
       "      <th>34</th>\n",
       "      <td>2021-08-31</td>\n",
       "      <td>8096836</td>\n",
       "    </tr>\n",
       "    <tr>\n",
       "      <th>35</th>\n",
       "      <td>2021-09-30</td>\n",
       "      <td>4852488</td>\n",
       "    </tr>\n",
       "    <tr>\n",
       "      <th>36</th>\n",
       "      <td>2021-10-31</td>\n",
       "      <td>9365882</td>\n",
       "    </tr>\n",
       "    <tr>\n",
       "      <th>37</th>\n",
       "      <td>2021-11-30</td>\n",
       "      <td>9299263</td>\n",
       "    </tr>\n",
       "    <tr>\n",
       "      <th>38</th>\n",
       "      <td>2021-12-31</td>\n",
       "      <td>14002722</td>\n",
       "    </tr>\n",
       "    <tr>\n",
       "      <th>39</th>\n",
       "      <td>2022-01-31</td>\n",
       "      <td>14207508</td>\n",
       "    </tr>\n",
       "    <tr>\n",
       "      <th>40</th>\n",
       "      <td>2022-02-28</td>\n",
       "      <td>8609139</td>\n",
       "    </tr>\n",
       "    <tr>\n",
       "      <th>41</th>\n",
       "      <td>2022-03-31</td>\n",
       "      <td>17935644</td>\n",
       "    </tr>\n",
       "    <tr>\n",
       "      <th>42</th>\n",
       "      <td>2022-04-30</td>\n",
       "      <td>58310420</td>\n",
       "    </tr>\n",
       "    <tr>\n",
       "      <th>43</th>\n",
       "      <td>2022-05-31</td>\n",
       "      <td>46059599</td>\n",
       "    </tr>\n",
       "    <tr>\n",
       "      <th>44</th>\n",
       "      <td>2022-06-30</td>\n",
       "      <td>17486029</td>\n",
       "    </tr>\n",
       "    <tr>\n",
       "      <th>45</th>\n",
       "      <td>2022-07-31</td>\n",
       "      <td>19113329</td>\n",
       "    </tr>\n",
       "    <tr>\n",
       "      <th>46</th>\n",
       "      <td>2022-08-31</td>\n",
       "      <td>13196887</td>\n",
       "    </tr>\n",
       "    <tr>\n",
       "      <th>47</th>\n",
       "      <td>2022-09-30</td>\n",
       "      <td>9190152</td>\n",
       "    </tr>\n",
       "    <tr>\n",
       "      <th>48</th>\n",
       "      <td>2022-10-31</td>\n",
       "      <td>19382769</td>\n",
       "    </tr>\n",
       "  </tbody>\n",
       "</table>\n",
       "</div>"
      ],
      "text/plain": [
       "         Date  like count\n",
       "0  2018-10-31     6419230\n",
       "1  2018-11-30     3344606\n",
       "2  2018-12-31     3197145\n",
       "3  2019-01-31     5400388\n",
       "4  2019-02-28     5670607\n",
       "5  2019-03-31     4293393\n",
       "6  2019-04-30     5952838\n",
       "7  2019-05-31     4543787\n",
       "8  2019-06-30     3138439\n",
       "9  2019-07-31     4496910\n",
       "10 2019-08-31     4168109\n",
       "11 2019-09-30     3547388\n",
       "12 2019-10-31     5279742\n",
       "13 2019-11-30     4714134\n",
       "14 2019-12-31     6971328\n",
       "15 2020-01-31     5924903\n",
       "16 2020-02-29     4145065\n",
       "17 2020-03-31     6505668\n",
       "18 2020-04-30     5580646\n",
       "19 2020-05-31    11842515\n",
       "20 2020-06-30     8284395\n",
       "21 2020-07-31    11574380\n",
       "22 2020-08-31     6267419\n",
       "23 2020-09-30     4816727\n",
       "24 2020-10-31     4244218\n",
       "25 2020-11-30     5520222\n",
       "26 2020-12-31     8088292\n",
       "27 2021-01-31    15778700\n",
       "28 2021-02-28    19801224\n",
       "29 2021-03-31    14651146\n",
       "30 2021-04-30    12982129\n",
       "31 2021-05-31    13832074\n",
       "32 2021-06-30     9020135\n",
       "33 2021-07-31    12153040\n",
       "34 2021-08-31     8096836\n",
       "35 2021-09-30     4852488\n",
       "36 2021-10-31     9365882\n",
       "37 2021-11-30     9299263\n",
       "38 2021-12-31    14002722\n",
       "39 2022-01-31    14207508\n",
       "40 2022-02-28     8609139\n",
       "41 2022-03-31    17935644\n",
       "42 2022-04-30    58310420\n",
       "43 2022-05-31    46059599\n",
       "44 2022-06-30    17486029\n",
       "45 2022-07-31    19113329\n",
       "46 2022-08-31    13196887\n",
       "47 2022-09-30     9190152\n",
       "48 2022-10-31    19382769"
      ]
     },
     "execution_count": 17,
     "metadata": {},
     "output_type": "execute_result"
    }
   ],
   "source": [
    "df = df_agg.resample('M').sum()\n",
    "df = df['2018-10-31':]\n",
    "df.reset_index(names='Date',inplace = True)\n",
    "df"
   ]
  },
  {
   "cell_type": "markdown",
   "metadata": {},
   "source": [
    "# Записываем предобработанные данные в csv"
   ]
  },
  {
   "cell_type": "code",
   "execution_count": 18,
   "metadata": {},
   "outputs": [],
   "source": [
    "df.to_csv('data/ElonTweets_new.csv', sep=';') "
   ]
  },
  {
   "cell_type": "markdown",
   "metadata": {},
   "source": [
    "# Добавляем новый датасет для трекинга в dvc"
   ]
  },
  {
   "cell_type": "code",
   "execution_count": 19,
   "metadata": {},
   "outputs": [
    {
     "name": "stdout",
     "output_type": "stream",
     "text": [
      "\n",
      "To track the changes with git, run:\n",
      "\n",
      "\tgit add 'data\\.gitignore' 'data\\ElonTweets_new.csv.dvc'\n",
      "\n",
      "To enable auto staging, run:\n",
      "\n",
      "\tdvc config core.autostage true\n"
     ]
    }
   ],
   "source": [
    "! dvc add data/ElonTweets_new.csv"
   ]
  },
  {
   "cell_type": "code",
   "execution_count": 20,
   "metadata": {},
   "outputs": [
    {
     "name": "stdout",
     "output_type": "stream",
     "text": [
      "[main a8be398] Add new data\n",
      " 2 files changed, 5 insertions(+)\n",
      " create mode 100644 data/ElonTweets_new.csv.dvc\n"
     ]
    }
   ],
   "source": [
    "!git add data/ElonTweets_new.csv.dvc  data/.gitignore\n",
    "!git commit -m \"Add new data\""
   ]
  },
  {
   "cell_type": "code",
   "execution_count": 21,
   "metadata": {},
   "outputs": [
    {
     "name": "stdout",
     "output_type": "stream",
     "text": [
      "On branch main\n",
      "Your branch is ahead of 'origin/main' by 5 commits.\n",
      "  (use \"git push\" to publish your local commits)\n",
      "\n",
      "Changes not staged for commit:\n",
      "  (use \"git add <file>...\" to update what will be committed)\n",
      "  (use \"git restore <file>...\" to discard changes in working directory)\n",
      "\tmodified:   model_Elon_Mask.ipynb\n",
      "\n",
      "Untracked files:\n",
      "  (use \"git add <file>...\" to include in what will be committed)\n",
      "\t.ipynb_checkpoints/\n",
      "\n",
      "no changes added to commit (use \"git add\" and/or \"git commit -a\")\n"
     ]
    }
   ],
   "source": [
    "! git add .dvc/config\n",
    "! git commit -m \"Configure remote storage\""
   ]
  },
  {
   "cell_type": "code",
   "execution_count": 22,
   "metadata": {},
   "outputs": [
    {
     "name": "stdout",
     "output_type": "stream",
     "text": [
      "Everything is up to date.\n"
     ]
    }
   ],
   "source": [
    "! dvc push"
   ]
  },
  {
   "cell_type": "code",
   "execution_count": 23,
   "metadata": {},
   "outputs": [
    {
     "name": "stdout",
     "output_type": "stream",
     "text": [
      "Everything is up to date.\n"
     ]
    }
   ],
   "source": [
    "! dvc pull"
   ]
  },
  {
   "cell_type": "markdown",
   "metadata": {},
   "source": [
    "# Считываем предобработанные данные\n",
    "Будем передавать эти данные в модель"
   ]
  },
  {
   "cell_type": "code",
   "execution_count": 24,
   "metadata": {},
   "outputs": [
    {
     "data": {
      "text/html": [
       "<div>\n",
       "<style scoped>\n",
       "    .dataframe tbody tr th:only-of-type {\n",
       "        vertical-align: middle;\n",
       "    }\n",
       "\n",
       "    .dataframe tbody tr th {\n",
       "        vertical-align: top;\n",
       "    }\n",
       "\n",
       "    .dataframe thead th {\n",
       "        text-align: right;\n",
       "    }\n",
       "</style>\n",
       "<table border=\"1\" class=\"dataframe\">\n",
       "  <thead>\n",
       "    <tr style=\"text-align: right;\">\n",
       "      <th></th>\n",
       "      <th>like count</th>\n",
       "    </tr>\n",
       "    <tr>\n",
       "      <th>Date</th>\n",
       "      <th></th>\n",
       "    </tr>\n",
       "  </thead>\n",
       "  <tbody>\n",
       "    <tr>\n",
       "      <th>2018-10-31</th>\n",
       "      <td>6419230</td>\n",
       "    </tr>\n",
       "    <tr>\n",
       "      <th>2018-11-30</th>\n",
       "      <td>3344606</td>\n",
       "    </tr>\n",
       "    <tr>\n",
       "      <th>2018-12-31</th>\n",
       "      <td>3197145</td>\n",
       "    </tr>\n",
       "    <tr>\n",
       "      <th>2019-01-31</th>\n",
       "      <td>5400388</td>\n",
       "    </tr>\n",
       "    <tr>\n",
       "      <th>2019-02-28</th>\n",
       "      <td>5670607</td>\n",
       "    </tr>\n",
       "    <tr>\n",
       "      <th>2019-03-31</th>\n",
       "      <td>4293393</td>\n",
       "    </tr>\n",
       "    <tr>\n",
       "      <th>2019-04-30</th>\n",
       "      <td>5952838</td>\n",
       "    </tr>\n",
       "    <tr>\n",
       "      <th>2019-05-31</th>\n",
       "      <td>4543787</td>\n",
       "    </tr>\n",
       "    <tr>\n",
       "      <th>2019-06-30</th>\n",
       "      <td>3138439</td>\n",
       "    </tr>\n",
       "    <tr>\n",
       "      <th>2019-07-31</th>\n",
       "      <td>4496910</td>\n",
       "    </tr>\n",
       "    <tr>\n",
       "      <th>2019-08-31</th>\n",
       "      <td>4168109</td>\n",
       "    </tr>\n",
       "    <tr>\n",
       "      <th>2019-09-30</th>\n",
       "      <td>3547388</td>\n",
       "    </tr>\n",
       "    <tr>\n",
       "      <th>2019-10-31</th>\n",
       "      <td>5279742</td>\n",
       "    </tr>\n",
       "    <tr>\n",
       "      <th>2019-11-30</th>\n",
       "      <td>4714134</td>\n",
       "    </tr>\n",
       "    <tr>\n",
       "      <th>2019-12-31</th>\n",
       "      <td>6971328</td>\n",
       "    </tr>\n",
       "    <tr>\n",
       "      <th>2020-01-31</th>\n",
       "      <td>5924903</td>\n",
       "    </tr>\n",
       "    <tr>\n",
       "      <th>2020-02-29</th>\n",
       "      <td>4145065</td>\n",
       "    </tr>\n",
       "    <tr>\n",
       "      <th>2020-03-31</th>\n",
       "      <td>6505668</td>\n",
       "    </tr>\n",
       "    <tr>\n",
       "      <th>2020-04-30</th>\n",
       "      <td>5580646</td>\n",
       "    </tr>\n",
       "    <tr>\n",
       "      <th>2020-05-31</th>\n",
       "      <td>11842515</td>\n",
       "    </tr>\n",
       "    <tr>\n",
       "      <th>2020-06-30</th>\n",
       "      <td>8284395</td>\n",
       "    </tr>\n",
       "    <tr>\n",
       "      <th>2020-07-31</th>\n",
       "      <td>11574380</td>\n",
       "    </tr>\n",
       "    <tr>\n",
       "      <th>2020-08-31</th>\n",
       "      <td>6267419</td>\n",
       "    </tr>\n",
       "    <tr>\n",
       "      <th>2020-09-30</th>\n",
       "      <td>4816727</td>\n",
       "    </tr>\n",
       "    <tr>\n",
       "      <th>2020-10-31</th>\n",
       "      <td>4244218</td>\n",
       "    </tr>\n",
       "    <tr>\n",
       "      <th>2020-11-30</th>\n",
       "      <td>5520222</td>\n",
       "    </tr>\n",
       "    <tr>\n",
       "      <th>2020-12-31</th>\n",
       "      <td>8088292</td>\n",
       "    </tr>\n",
       "    <tr>\n",
       "      <th>2021-01-31</th>\n",
       "      <td>15778700</td>\n",
       "    </tr>\n",
       "    <tr>\n",
       "      <th>2021-02-28</th>\n",
       "      <td>19801224</td>\n",
       "    </tr>\n",
       "    <tr>\n",
       "      <th>2021-03-31</th>\n",
       "      <td>14651146</td>\n",
       "    </tr>\n",
       "    <tr>\n",
       "      <th>2021-04-30</th>\n",
       "      <td>12982129</td>\n",
       "    </tr>\n",
       "    <tr>\n",
       "      <th>2021-05-31</th>\n",
       "      <td>13832074</td>\n",
       "    </tr>\n",
       "    <tr>\n",
       "      <th>2021-06-30</th>\n",
       "      <td>9020135</td>\n",
       "    </tr>\n",
       "    <tr>\n",
       "      <th>2021-07-31</th>\n",
       "      <td>12153040</td>\n",
       "    </tr>\n",
       "    <tr>\n",
       "      <th>2021-08-31</th>\n",
       "      <td>8096836</td>\n",
       "    </tr>\n",
       "    <tr>\n",
       "      <th>2021-09-30</th>\n",
       "      <td>4852488</td>\n",
       "    </tr>\n",
       "    <tr>\n",
       "      <th>2021-10-31</th>\n",
       "      <td>9365882</td>\n",
       "    </tr>\n",
       "    <tr>\n",
       "      <th>2021-11-30</th>\n",
       "      <td>9299263</td>\n",
       "    </tr>\n",
       "    <tr>\n",
       "      <th>2021-12-31</th>\n",
       "      <td>14002722</td>\n",
       "    </tr>\n",
       "    <tr>\n",
       "      <th>2022-01-31</th>\n",
       "      <td>14207508</td>\n",
       "    </tr>\n",
       "    <tr>\n",
       "      <th>2022-02-28</th>\n",
       "      <td>8609139</td>\n",
       "    </tr>\n",
       "    <tr>\n",
       "      <th>2022-03-31</th>\n",
       "      <td>17935644</td>\n",
       "    </tr>\n",
       "    <tr>\n",
       "      <th>2022-04-30</th>\n",
       "      <td>58310420</td>\n",
       "    </tr>\n",
       "    <tr>\n",
       "      <th>2022-05-31</th>\n",
       "      <td>46059599</td>\n",
       "    </tr>\n",
       "    <tr>\n",
       "      <th>2022-06-30</th>\n",
       "      <td>17486029</td>\n",
       "    </tr>\n",
       "    <tr>\n",
       "      <th>2022-07-31</th>\n",
       "      <td>19113329</td>\n",
       "    </tr>\n",
       "    <tr>\n",
       "      <th>2022-08-31</th>\n",
       "      <td>13196887</td>\n",
       "    </tr>\n",
       "    <tr>\n",
       "      <th>2022-09-30</th>\n",
       "      <td>9190152</td>\n",
       "    </tr>\n",
       "    <tr>\n",
       "      <th>2022-10-31</th>\n",
       "      <td>19382769</td>\n",
       "    </tr>\n",
       "  </tbody>\n",
       "</table>\n",
       "</div>"
      ],
      "text/plain": [
       "            like count\n",
       "Date                  \n",
       "2018-10-31     6419230\n",
       "2018-11-30     3344606\n",
       "2018-12-31     3197145\n",
       "2019-01-31     5400388\n",
       "2019-02-28     5670607\n",
       "2019-03-31     4293393\n",
       "2019-04-30     5952838\n",
       "2019-05-31     4543787\n",
       "2019-06-30     3138439\n",
       "2019-07-31     4496910\n",
       "2019-08-31     4168109\n",
       "2019-09-30     3547388\n",
       "2019-10-31     5279742\n",
       "2019-11-30     4714134\n",
       "2019-12-31     6971328\n",
       "2020-01-31     5924903\n",
       "2020-02-29     4145065\n",
       "2020-03-31     6505668\n",
       "2020-04-30     5580646\n",
       "2020-05-31    11842515\n",
       "2020-06-30     8284395\n",
       "2020-07-31    11574380\n",
       "2020-08-31     6267419\n",
       "2020-09-30     4816727\n",
       "2020-10-31     4244218\n",
       "2020-11-30     5520222\n",
       "2020-12-31     8088292\n",
       "2021-01-31    15778700\n",
       "2021-02-28    19801224\n",
       "2021-03-31    14651146\n",
       "2021-04-30    12982129\n",
       "2021-05-31    13832074\n",
       "2021-06-30     9020135\n",
       "2021-07-31    12153040\n",
       "2021-08-31     8096836\n",
       "2021-09-30     4852488\n",
       "2021-10-31     9365882\n",
       "2021-11-30     9299263\n",
       "2021-12-31    14002722\n",
       "2022-01-31    14207508\n",
       "2022-02-28     8609139\n",
       "2022-03-31    17935644\n",
       "2022-04-30    58310420\n",
       "2022-05-31    46059599\n",
       "2022-06-30    17486029\n",
       "2022-07-31    19113329\n",
       "2022-08-31    13196887\n",
       "2022-09-30     9190152\n",
       "2022-10-31    19382769"
      ]
     },
     "execution_count": 24,
     "metadata": {},
     "output_type": "execute_result"
    }
   ],
   "source": [
    "df = pd.read_csv(\"data/ElonTweets_new.csv\", sep = ';', usecols=[1, 2])\n",
    "df['Date'] = pd.to_datetime(df['Date'], format=\"%Y.%m.%d\")\n",
    "df.set_index('Date', inplace = True)\n",
    "df"
   ]
  },
  {
   "cell_type": "markdown",
   "metadata": {},
   "source": [
    "# Построение модели прогнозированния временного ряда\n",
    "Наша модель будет предсказывать кол-во лайков твитов Илона Маска \n"
   ]
  },
  {
   "cell_type": "markdown",
   "metadata": {},
   "source": [
    "# Предсказание на текущих данных (без прогноза на будущее)"
   ]
  },
  {
   "cell_type": "markdown",
   "metadata": {},
   "source": [
    " Создаем функцию, в которой объединим дополнительную обработку данных для прогнозирования, в том числе разбиение на тестовую и обучающую выборки, а также саму модель "
   ]
  },
  {
   "cell_type": "markdown",
   "metadata": {},
   "source": [
    "#### Модель: GradientBoostingRegressor"
   ]
  },
  {
   "cell_type": "code",
   "execution_count": 25,
   "metadata": {},
   "outputs": [],
   "source": [
    "def model_predictions_GB(df):\n",
    "    df = df.astype('float64')\n",
    "    index = pd.to_datetime(df.index, format=\"%Y-%m-%d\")\n",
    "    df['week'] = index.month\n",
    "    df['week_num'] = range(1, len(df) + 1)\n",
    "    for i in range(1,13):\n",
    "            df['season_' + str(i)] =  df['week'] == i\n",
    "    season_columns = [ 'season_' + str(i) for i in range(2,13)]\n",
    "    # Разделяем на features и target\n",
    "    X = df[['week_num'] + season_columns]\n",
    "    y = df['like count']\n",
    "    # Создаем обучающую и тестовые выборки\n",
    "    X_train = X[:'2021-10-31']\n",
    "    y_train = y[:'2021-10-31']\n",
    "    X_test = X['2021-10-31' :]\n",
    "    y_test = y['2021-10-31' :]\n",
    "    # Обучаем модель \n",
    "    GBR = GradientBoostingRegressor().fit(X_train.iloc[:, :12], y_train)\n",
    "    y_pred = GBR.predict(X.iloc[:, :12])\n",
    "    # Формируем датасет для выхода\n",
    "    y_pred = pd.DataFrame(data=y_pred, index=y.index, columns=['cnt_predictions'])\n",
    "    y_test = pd.DataFrame(data=y_test.values, index=y_test.index, columns=['cnt'])\n",
    "    y = pd.DataFrame(data=y.values, index=y.index, columns=['cnt'])\n",
    "    df_predictions = pd.concat([y,y_pred], axis = 1)\n",
    "    print('MAРE = %.3f' % (mean_absolute_percentage_error(y_test, y_pred['2021-10-31':'2022-10-31'], symmetric=False)))\n",
    "    plot_series(y_train, y_test, y_pred, labels=[\"y_train\", \"y_test\", \"y_pred\"])\n",
    "    return df_predictions"
   ]
  },
  {
   "cell_type": "markdown",
   "metadata": {},
   "source": [
    "#### Модель: AutoETS"
   ]
  },
  {
   "cell_type": "code",
   "execution_count": 26,
   "metadata": {},
   "outputs": [],
   "source": [
    "def model_predictions_ETS(df):\n",
    "    df = df.asfreq('M')\n",
    "    y_train  = df[:'2021-10-31']\n",
    "    y_test  = df['2021-10-31' :]\n",
    "\n",
    "    fh = ForecastingHorizon(df.index, is_relative=None)\n",
    "    forecaster = AutoETS(auto=True, sp = 12, n_jobs=1) # автоматический выбор модели, а вообще дефолтные параметры подходят\n",
    "\n",
    "    forecaster.fit(y_train)\n",
    "    y_pred = forecaster.predict(fh)\n",
    "    plot_series(y_train, y_test, y_pred, labels=[\"y_train\", \"y_test\", \"y_pred\"])\n",
    "    print('MAРE = %.3f' % (mean_absolute_percentage_error(y_test, y_pred['2021-10-31':'2022-10-31'], symmetric=False)))\n",
    "    # Формируем датасет для выхода\n",
    "    y_pred.rename(columns = {'cnt' : 'cnt_predictions'}, inplace = True)\n",
    "    df_predictions = pd.concat([df,y_pred], axis = 1)\n",
    "    return df_predictions"
   ]
  },
  {
   "cell_type": "markdown",
   "metadata": {},
   "source": [
    "## Вызываем функции для прогнозирования\n",
    "Она выводит датасет, график и метрику MAPE"
   ]
  },
  {
   "cell_type": "markdown",
   "metadata": {},
   "source": [
    "#### Модель: GradientBoostingRegressor"
   ]
  },
  {
   "cell_type": "code",
   "execution_count": 27,
   "metadata": {},
   "outputs": [
    {
     "name": "stdout",
     "output_type": "stream",
     "text": [
      "MAРE = 0.389\n"
     ]
    },
    {
     "data": {
      "image/png": "[encoded data removed]",
      "text/plain": [
       "<Figure size 1152x288 with 1 Axes>"
      ]
     },
     "metadata": {
      "needs_background": "light"
     },
     "output_type": "display_data"
    }
   ],
   "source": [
    "df_pred_GB = model_predictions_GB(df)"
   ]
  },
  {
   "cell_type": "markdown",
   "metadata": {},
   "source": [
    "#### Модель: AutoETS"
   ]
  },
  {
   "cell_type": "code",
   "execution_count": 28,
   "metadata": {},
   "outputs": [
    {
     "name": "stdout",
     "output_type": "stream",
     "text": [
      "MAРE = 0.407\n"
     ]
    },
    {
     "data": {
      "image/png": "[encoded data removed]",
      "text/plain": [
       "<Figure size 1152x288 with 1 Axes>"
      ]
     },
     "metadata": {
      "needs_background": "light"
     },
     "output_type": "display_data"
    }
   ],
   "source": [
    "df_pred_ETS = model_predictions_ETS(df)"
   ]
  },
  {
   "cell_type": "markdown",
   "metadata": {},
   "source": [
    "# Предсказание на будущих данных (прогноз в будущее на 6 месяцев вперед)"
   ]
  },
  {
   "cell_type": "markdown",
   "metadata": {},
   "source": [
    "#### Модель: AutoETS"
   ]
  },
  {
   "cell_type": "code",
   "execution_count": 29,
   "metadata": {},
   "outputs": [],
   "source": [
    "def model_predictions_ETS_future(df):\n",
    "    y_train  = df[:'2021-10-31']\n",
    "    y_test  = df['2021-10-31' :]\n",
    "\n",
    "    fh = ForecastingHorizon(pd.date_range(start = '2021-10-30', periods = 18, freq = 'M'), is_relative=None)\n",
    "    forecaster = AutoETS(auto=True, sp = 12, n_jobs=1) # автоматический выбор модели, а вообще дефолтные параметры подходят\n",
    "\n",
    "    forecaster.fit(y_train)\n",
    "    y_pred = forecaster.predict(fh)\n",
    "    plot_series(y_train, y_test, y_pred, labels=[\"y_train\", \"y_test\", \"y_pred\"])\n",
    "    print('MAРE = %.3f' % (mean_absolute_percentage_error(y_test, y_pred['2021-10-31':'2022-10-31'], symmetric=False)))\n",
    "    # Формируем датасет для выхода\n",
    "    y_pred.rename(columns = {'cnt' : 'cnt_predictions'}, inplace = True)\n",
    "    df_predictions = pd.concat([df,y_pred], axis = 1)\n",
    "    return df_predictions"
   ]
  },
  {
   "cell_type": "markdown",
   "metadata": {},
   "source": [
    "#### Модель: GradientBoostingRegressor"
   ]
  },
  {
   "cell_type": "code",
   "execution_count": 30,
   "metadata": {},
   "outputs": [],
   "source": [
    "def model_predictions_GB_future(df):\n",
    "    index = pd.date_range(df.index.max() + relativedelta(months=1), periods = 5, freq = 'M')\n",
    "    index = pd.to_datetime(index, format=\"%Y-%m-%d\")\n",
    "    new_dates = pd.DataFrame(index.month, index=index )\n",
    "    new_dates.rename(columns =  {0: 'week'}, inplace = True)\n",
    "    df = pd.concat([df,new_dates])\n",
    "    df = df.astype('float64')\n",
    "    index = pd.to_datetime(df.index, format=\"%Y-%m-%d\")\n",
    "    df['month'] = index.month\n",
    "    df['month_num'] = range(1, len(df) + 1)\n",
    "    for i in range(1,13):\n",
    "            df['season_' + str(i)] =  df['month'] == i\n",
    "    season_columns = [ 'season_' + str(i) for i in range(2,13)]\n",
    "    # Разделяем на features и target\n",
    "    X = df[['month_num'] + season_columns]\n",
    "    y = df['like count']\n",
    "\n",
    "    # Создаем обучающую и тестовые выборки\n",
    "    X_train = X[:'2021-10-30']\n",
    "    y_train = y[:'2021-10-30']\n",
    "    X_test = X['2021-10-31' :]\n",
    "    y_test = y['2021-10-31' :]\n",
    "    # Обучаем модель \n",
    "    GBR = GradientBoostingRegressor().fit(X_train.iloc[:, :12], y_train)\n",
    "    y_pred = GBR.predict(X_test.iloc[:, :12])\n",
    "    # Формируем датасет для выхода\n",
    "    y_pred = pd.DataFrame(data=y_pred, index=y_test.index, columns=['cnt_predictions'])\n",
    "    y_test = pd.DataFrame(data=y_test.values, index=y_test.index, columns=['cnt'])\n",
    "    y = pd.DataFrame(data=y.values, index=y.index, columns=['cnt'])\n",
    "    print('MAРE = %.3f' % (mean_absolute_percentage_error(y_test['2021-10-31':'2022-10-31'], y_pred['2021-10-31':'2022-10-31'], symmetric=False)))\n",
    "    plt = plot_series(y_train, y_test, y_pred, labels=[\"y_train\", \"y_test\", \"y_pred\"])\n",
    "    #plt.xticks(rotation=90)\n",
    "    y.reset_index(inplace = True)\n",
    "    y_pred.reset_index(inplace = True)\n",
    "    df_predictions = y.merge(y_pred, how='left', on='index')\n",
    "    df_predictions.set_index('index', inplace = True)\n",
    "    #df_predictions = df_predictions.drop(columns=['level_0_x','level_0_y'])\n",
    "    return df_predictions"
   ]
  },
  {
   "cell_type": "markdown",
   "metadata": {},
   "source": [
    "## Вызываем функции для прогнозирования"
   ]
  },
  {
   "cell_type": "markdown",
   "metadata": {},
   "source": [
    "#### Модель: AutoETS"
   ]
  },
  {
   "cell_type": "code",
   "execution_count": 31,
   "metadata": {},
   "outputs": [
    {
     "name": "stdout",
     "output_type": "stream",
     "text": [
      "MAРE = 0.407\n"
     ]
    },
    {
     "data": {
      "image/png": "[encoded data removed]",
      "text/plain": [
       "<Figure size 1152x288 with 1 Axes>"
      ]
     },
     "metadata": {
      "needs_background": "light"
     },
     "output_type": "display_data"
    }
   ],
   "source": [
    "df_pred_ETS = model_predictions_ETS_future(df)"
   ]
  },
  {
   "cell_type": "markdown",
   "metadata": {},
   "source": [
    "#### Модель: GradientBoostingRegressor"
   ]
  },
  {
   "cell_type": "code",
   "execution_count": 32,
   "metadata": {},
   "outputs": [
    {
     "name": "stdout",
     "output_type": "stream",
     "text": [
      "MAРE = 0.544\n"
     ]
    },
    {
     "data": {
      "image/png": "[encoded data removed]",
      "text/plain": [
       "<Figure size 1152x288 with 1 Axes>"
      ]
     },
     "metadata": {
      "needs_background": "light"
     },
     "output_type": "display_data"
    }
   ],
   "source": [
    "df_pred_GB = model_predictions_GB_future(df)"
   ]
  },
  {
   "cell_type": "markdown",
   "metadata": {},
   "source": [
    "# Выкладываем в github"
   ]
  },
  {
   "cell_type": "code",
   "execution_count": 33,
   "metadata": {},
   "outputs": [
    {
     "name": "stderr",
     "output_type": "stream",
     "text": [
      "warning: in the working copy of 'model_Elon_Mask.ipynb', LF will be replaced by CRLF the next time Git touches it\n"
     ]
    },
    {
     "name": "stdout",
     "output_type": "stream",
     "text": [
      "[main 343ddad] Add last version of notebook\n",
      " 1 file changed, 91 insertions(+), 96 deletions(-)\n"
     ]
    }
   ],
   "source": [
    "! git add model_Elon_Mask.ipynb \n",
    "! git commit -m \"Add last version of notebook\""
   ]
  },
  {
   "cell_type": "code",
   "execution_count": 34,
   "metadata": {},
   "outputs": [
    {
     "name": "stdout",
     "output_type": "stream",
     "text": [
      "branch 'main' set up to track 'origin/main'.\n"
     ]
    },
    {
     "name": "stderr",
     "output_type": "stream",
     "text": [
      "To https://github.com/mariaa99/ml_model_Elon_tweets.git\n",
      "   439c065..343ddad  main -> main\n"
     ]
    }
   ],
   "source": [
    "!git push -u origin main"
   ]
  },
  {
   "cell_type": "code",
   "execution_count": null,
   "metadata": {},
   "outputs": [],
   "source": []
  }
 ],
 "metadata": {
  "kernelspec": {
   "display_name": "Python 3",
   "language": "python",
   "name": "python3"
  },
  "language_info": {
   "codemirror_mode": {
    "name": "ipython",
    "version": 3
   },
   "file_extension": ".py",
   "mimetype": "text/x-python",
   "name": "python",
   "nbconvert_exporter": "python",
   "pygments_lexer": "ipython3",
   "version": "3.8.5"
  }
 },
 "nbformat": 4,
 "nbformat_minor": 4
}
